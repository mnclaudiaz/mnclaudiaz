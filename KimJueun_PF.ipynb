{
  "nbformat": 4,
  "nbformat_minor": 0,
  "metadata": {
    "colab": {
      "provenance": [],
      "collapsed_sections": [
        "aMRyAaR59Kw5"
      ],
      "toc_visible": true,
      "authorship_tag": "ABX9TyN7Vmkh5O9q9SHAlKbX+lhl"
    },
    "kernelspec": {
      "name": "python3",
      "display_name": "Python 3"
    },
    "language_info": {
      "name": "python"
    }
  },
  "cells": [
    {
      "cell_type": "code",
      "execution_count": null,
      "metadata": {
        "id": "jfUxTWwA6KJZ"
      },
      "outputs": [],
      "source": [
        "# 안녕하세요. 다우기술 금융IT개발자 인턴 지원자 김주은입니다."
      ]
    },
    {
      "cell_type": "markdown",
      "source": [
        "## 기본"
      ],
      "metadata": {
        "id": "L6wPh4eM7wOq"
      }
    },
    {
      "cell_type": "code",
      "source": [
        "#숫자 두 개를 입력받아서 사칙연산을 모두 출력하세요.\n",
        "#출력 형태는 2+4=6, 2-4=-2\n",
        "\n",
        "num1_input=int(input(\"숫자1: \"))\n",
        "num2_input=int(input(\"숫자2: \"))\n",
        "print(num1_input, \"+\", num2_input, \"=\", num1_input+num2_input)\n",
        "print(num1_input, \"-\", num2_input, \"=\", num1_input-num2_input)\n",
        "print(num1_input, \"*\", num2_input, \"=\", num1_input*num2_input)\n",
        "print(num1_input, \"/\", num2_input, \"=\", num1_input/num2_input)"
      ],
      "metadata": {
        "id": "yqqef7V26bRi"
      },
      "execution_count": null,
      "outputs": []
    },
    {
      "cell_type": "code",
      "source": [
        "## 택배를 보내기 위한 정보를 입력하세요. ##\n",
        "name=input(\"받는 사람 : \")\n",
        "add=input(\"주소 : \")\n",
        "weight=int(input(\"무게(g) : \"))\n",
        "print(\"** 받는 사람 ==>\", name)\n",
        "print(\"** 주소 ==>\", add)\n",
        "print(\"** 배송비 ==>\", weight*5,\"원\")"
      ],
      "metadata": {
        "id": "jjhuHReJ7Wsp"
      },
      "execution_count": null,
      "outputs": []
    },
    {
      "cell_type": "code",
      "source": [
        "#덤벨의 파운드를 kg으로 환산하기\n",
        "lb=int(input(\"파운드(lb)를 입력하세요 : \"))\n",
        "kg=lb*0.453592\n",
        "print(lb,\"파운드(lb)는\", kg,\"킬로그램(kg)입니다.\")\n",
        "print(\"%d 파운드(lb)는 %.5f 킬로그램(kg)입니다.\"%(lb,kg))\n",
        "\n",
        "kg=int(input(\"킬로그램(kg)을 입력하세요 : \"))\n",
        "lb=kg*2.204623\n",
        "print(kg,\"킬로그램(kg)은\",lb,\"파운드(lb)입니다.\")\n",
        "print(\"%d 킬로그램(kg)은 %.5f 파운드(lb)입니다.\"%(kg,lb))"
      ],
      "metadata": {
        "id": "8_eULzMB7egZ"
      },
      "execution_count": null,
      "outputs": []
    },
    {
      "cell_type": "code",
      "source": [
        "#편의점 하루 매출 계산하기\n",
        "total=0             #매출액(total)을 0으로 두고 시작\n",
        "total -= 900*10\n",
        "total -= 3500*5\n",
        "total += 1800*2\n",
        "total += 4000*4\n",
        "total += 1500*1\n",
        "total += 2000*4\n",
        "total += 1800*5\n",
        "print(\"오늘 총 매출액은 %d원입니다\"%(total))\n",
        "print(f\"오늘 총 매출액은 {total}원입니다.\")"
      ],
      "metadata": {
        "id": "vcstPrBU7iNU"
      },
      "execution_count": 2,
      "outputs": []
    },
    {
      "cell_type": "code",
      "source": [
        "#기말 평균 학점 구하기\n",
        "py=float(input(\"파이썬 학점:\"))*3\n",
        "mob=float(input(\"모바일 학점:\"))*2\n",
        "excel=float(input(\"엑셀 학점:\"))*1\n",
        "score=(py+mob+excel)/6\n",
        "print(\"평균 학점 : %.2f\"%(score))"
      ],
      "metadata": {
        "id": "gHghtLDI7i4x"
      },
      "execution_count": null,
      "outputs": []
    },
    {
      "cell_type": "markdown",
      "source": [
        "## IF문"
      ],
      "metadata": {
        "id": "aMRyAaR59Kw5"
      }
    },
    {
      "cell_type": "code",
      "source": [
        "# 숫자를 입력받아 3의 배수인지 아닌지 알려주기\n",
        "num = int(input(\"숫자를 입력 : \"))\n",
        "\n",
        "if num % 3 == 0 :\n",
        "    print(\"{}은 3의 배수입니다.\".format(num))\n",
        "else :\n",
        "    print(\"{}은 3의 배수가 아닙니다.\".format(num))"
      ],
      "metadata": {
        "id": "tQyMXzJX8MWD"
      },
      "execution_count": null,
      "outputs": []
    },
    {
      "cell_type": "code",
      "source": [
        "#숫자를 입력받아 학점 알려주기\n",
        "score = int(input('점수를 입력 : '))\n",
        "\n",
        "if score >= 90 :\n",
        "    print('A', end='')\n",
        "elif score >= 80 :\n",
        "    print('B', end='')\n",
        "elif score >= 70 :\n",
        "    print('C', end='')\n",
        "elif score >= 60 :\n",
        "    print('D', end='')\n",
        "else :\n",
        "    print('F', end='')\n",
        "print('학점입니다.')"
      ],
      "metadata": {
        "id": "WhKlFmmJ8ZPX"
      },
      "execution_count": null,
      "outputs": []
    },
    {
      "cell_type": "code",
      "source": [
        "#컴퓨터와 가위바위보 게임하기!\n",
        "import random\n",
        "\n",
        "myHand = input(\"나의 가위/바위/보 : \")\n",
        "comHand = random.choice([\"가위\", \"바위\", \"보\"])\n",
        "print(\"컴퓨터의 가위/바위/보 :\", comHand)\n",
        "\n",
        "if myHand == \"가위\" :\n",
        "    if comHand == \"가위\" :\n",
        "        print(\"비겼어요.\")\n",
        "    elif comHand == \"바위\" :\n",
        "        print(\"졌어요.\")\n",
        "    elif comHand == \"보\" :\n",
        "        print(\"이겼어요.\")\n",
        "elif myHand == \"바위\" :\n",
        "    if comHand == \"가위\" :\n",
        "        print(\"이겼어요.\")\n",
        "    elif comHand == \"바위\" :\n",
        "        print(\"비겼어요.\")\n",
        "    elif comHand == \"보\" :\n",
        "        print(\"졌어요.\")\n",
        "elif myHand == \"보\" :\n",
        "    if comHand == \"가위\" :\n",
        "        print(\"졌어요.\")\n",
        "    elif comHand == \"바위\" :\n",
        "        print(\"이겼어요.\")\n",
        "    elif comHand == \"보\" :\n",
        "        print(\"비겼어요.\")\n",
        "else :\n",
        "    print(\"판정이 불가합니다.\")"
      ],
      "metadata": {
        "id": "BXimGy4O8m65"
      },
      "execution_count": null,
      "outputs": []
    },
    {
      "cell_type": "code",
      "source": [
        "#나이가 19세 미만, 키가 140 초과하면 탑승 가능\n",
        "age = int(input('나이 : '))\n",
        "height = int(input(\"키 : \"))\n",
        "\n",
        "if age < 19 :\n",
        "    if height > 140 :\n",
        "        print(\"탑승 가능\")\n",
        "    else :\n",
        "        print(\"키가 작아 탑승이 어렵습니다.\")\n",
        "else :\n",
        "    print('19세 미만 탑승 가능합니다.')\n",
        "\n",
        "#나이 먼저 묻고 19세 미만이면 키를 물어 판정한다.\n",
        "age = int(input('나이 : '))\n",
        "\n",
        "if age < 19 :\n",
        "    height = int(input(\"키 : \"))\n",
        "    if height > 140 :\n",
        "        print(\"탑승 가능\")\n",
        "    else :\n",
        "        print(\"키가 작아 탑승이 어렵습니다.\")\n",
        "else :\n",
        "    print('19세 미만 탑승 가능합니다.')"
      ],
      "metadata": {
        "id": "-Bh1rYkA8uhL"
      },
      "execution_count": null,
      "outputs": []
    },
    {
      "cell_type": "code",
      "source": [
        "#과일 구매 영수증 만들기\n",
        "apple = int(input(\"사과 구매 개수 : \"))\n",
        "grape = int(input(\"포도 구매 개수 : \"))\n",
        "pear = int(input(\"배 구매 개수 : \"))\n",
        "orange = int(input(\"귤 구매 개수 : \"))\n",
        "total = apple*1000 + grape*3000 + pear*2000 + orange*500\n",
        "\n",
        "if grape >= 3 :\n",
        "    print(\"지불 금액은 %d원입니다.\"%(total*0.9))\n",
        "    print(\"=\"*20)\n",
        "    print(\"매입원가 : %d원 \\n매입할인 : %d원 \\n순매입액 : %d원\"%(total, total*0.1, total*0.9))\n",
        "else :\n",
        "    print(\"지불 금액은 %d원입니다.\"%(total))"
      ],
      "metadata": {
        "id": "a3hPwkUR8yKg"
      },
      "execution_count": null,
      "outputs": []
    },
    {
      "cell_type": "markdown",
      "source": [
        "## FOR문"
      ],
      "metadata": {
        "id": "_JjK5JP59ULz"
      }
    },
    {
      "cell_type": "code",
      "source": [
        "#1부터 10까지 곱하는 중 값이 200이 되면 반복문을 멈추고 값을 출력하시오.\n",
        "gob=1\n",
        "for i in range(1, 11, 1):\n",
        "    print(i, end=' ')\n",
        "    gob*=i\n",
        "    if gob < 200 :\n",
        "        continue\n",
        "    else :\n",
        "        break\n",
        "\n",
        "print('결과 :',gob)"
      ],
      "metadata": {
        "id": "poKkpWen8_OJ"
      },
      "execution_count": null,
      "outputs": []
    },
    {
      "cell_type": "code",
      "source": [
        "#for문을 이용해 1부터 10까지 숫자 중 짝수 합을 구하시오.\n",
        "hap = 0\n",
        "for i in range (1, 11, 1):\n",
        "    if i%2 == 0:\n",
        "        hap += i\n",
        "        print(i, hap)"
      ],
      "metadata": {
        "id": "T4iktMu69gUF"
      },
      "execution_count": null,
      "outputs": []
    },
    {
      "cell_type": "code",
      "source": [
        "#for문을 이용해 1부터 10까지 숫자 중 5의 배수가 아닌 값들의 합을 구하시오.\n",
        "hap = 0\n",
        "for i in range (1, 11, 1):\n",
        "    if i%5 != 0:\n",
        "        hap += i\n",
        "        print(i, hap)"
      ],
      "metadata": {
        "id": "PLPCOwvb9i3H"
      },
      "execution_count": null,
      "outputs": []
    },
    {
      "cell_type": "code",
      "source": [
        "#for문을 이용해 1부터 10까지 숫자 중 짝수와 홀수의 합을 각각 구하시오.\n",
        "hap_even = 0\n",
        "hap_odd = 0\n",
        "for i in range (1, 11, 1):\n",
        "    if i%2 == 0:\n",
        "        hap_even += i\n",
        "    else:\n",
        "        hap_odd  += i\n",
        "print(\"짝수의 합 :\", hap_even, \"홀수의 합 :\", hap_odd)"
      ],
      "metadata": {
        "id": "Q7UvJs9j9jff"
      },
      "execution_count": null,
      "outputs": []
    },
    {
      "cell_type": "markdown",
      "source": [
        "## WHILE문"
      ],
      "metadata": {
        "id": "81i9xCC19bbD"
      }
    },
    {
      "cell_type": "code",
      "source": [
        "#1부터 10까지 곱하는 중 값이 200이 되면 반복문을 멈추고 값을 출력하시오.\n",
        "gob=1\n",
        "cnt=1\n",
        "while gob < 200:\n",
        "    cnt += 1 # 무한반복에 빠지지 않게 해 줌\n",
        "    print(cnt, end=' ')\n",
        "    gob *= cnt\n",
        "    if gob < 200 :\n",
        "        continue\n",
        "    else :\n",
        "        break\n",
        "print(\"를 곱한 결과:\", gob)"
      ],
      "metadata": {
        "id": "C_fqc5oW9C71"
      },
      "execution_count": null,
      "outputs": []
    },
    {
      "cell_type": "code",
      "source": [
        "#while문을 이용해 1부터 10까지 숫자 중 5의 배수가 아닌 값들의 합을 구하시오.\n",
        "num = 1\n",
        "hap = 0\n",
        "while num < 11 :\n",
        "    if num%5 != 0 :\n",
        "        hap += num\n",
        "    num += 1\n",
        "print(hap)"
      ],
      "metadata": {
        "id": "hG_uTv4v9pQy"
      },
      "execution_count": null,
      "outputs": []
    },
    {
      "cell_type": "code",
      "source": [
        "#세 개 주사위가 모두 같은 값이 나올 때까지 RANDOM으로 던지기\n",
        "import random\n",
        "cnt=1\n",
        "while True:\n",
        "    a = random.randint(1,6)\n",
        "    b = random.randint(1,6)\n",
        "    c = random.randint(1,6)\n",
        "    if a==b==c : #(a==b) and (b==c)\n",
        "        break\n",
        "    cnt += 1\n",
        "print(f\"세 개의 주사위는 모두 {a}입니다.\")\n",
        "print(f\"같은 숫자가 나오기까지 {cnt}번 던졌습니다.\")"
      ],
      "metadata": {
        "id": "KTZYDVlW9qii"
      },
      "execution_count": null,
      "outputs": []
    },
    {
      "cell_type": "code",
      "source": [
        "#1부터 10까지 숫자 중, 컴퓨터가 생각한 숫자 맞히\n",
        "import random\n",
        "\n",
        "for i in range(1,11,1):\n",
        "    num = random.randint(1,5)\n",
        "    user=int(input(f\"[게임 {i}회] 컴퓨터가 생각한 숫자는? : \"))\n",
        "    if user==num :\n",
        "        print(\"맞혔네요. 축하합니다!\")\n",
        "        break\n",
        "    elif i==10 :\n",
        "        print(\"기회가 없어요. 게임을 마칩니다.\")\n",
        "        break\n",
        "    else :\n",
        "        print(f\"아까워요. {num}였는데요. 다시 해보세요. ㅠ\")\n",
        "        continue"
      ],
      "metadata": {
        "id": "UGH8spAx94t0"
      },
      "execution_count": null,
      "outputs": []
    },
    {
      "cell_type": "markdown",
      "source": [
        "## 리스트 & 딕셔너리"
      ],
      "metadata": {
        "id": "uL1ufsxh-VF_"
      }
    },
    {
      "cell_type": "code",
      "source": [
        "#실습 7-1 특정 단어와 element 개수를 조건으로 하는 예제\n",
        "list_ex1=[\"risk\",\"issue\",\"test\",\"maintenance\",\"maturity\"]\n",
        "list_ex2=[\"security\",\"plan\",\"design\",\"systematic\",\"safety\"]\n",
        "list_ex3=[\"maintenance\",\"verification\",\"validation\"]\n",
        "\n",
        "while True:\n",
        "    if \"maintenance\" in list_ex1:\n",
        "        if len(list_ex1)>=5:\n",
        "            print(list_ex1)\n",
        "            break\n",
        "    if \"maintenance\" in list_ex2:\n",
        "        if len(list_ex2)>=5:\n",
        "            print(list_ex2)\n",
        "            break\n",
        "    if \"maintenance\" in list_ex3:\n",
        "        if len(list_ex3)>=5:\n",
        "            print(list_ex3)\n",
        "            break"
      ],
      "metadata": {
        "colab": {
          "base_uri": "https://localhost:8080/"
        },
        "id": "XnPSyEHU-G25",
        "outputId": "250a8c65-2103-4b2a-c54a-0d9a0f129fd1"
      },
      "execution_count": 4,
      "outputs": [
        {
          "output_type": "stream",
          "name": "stdout",
          "text": [
            "['risk', 'issue', 'test', 'maintenance', 'maturity']\n"
          ]
        }
      ]
    },
    {
      "cell_type": "code",
      "source": [
        "#물품과 수량 입력하고 재고량 확인하기\n",
        "product={}\n",
        "\n",
        "while True:\n",
        "    name=input(\"입력물품 ==>\")\n",
        "    if name==\"z\":\n",
        "        break\n",
        "    cnt=int(input(\"재고량 ==>\"))\n",
        "    product[name]=cnt\n",
        "name_list=product.keys()\n",
        "print(\"***물품의 재고량 확인***\")\n",
        "while True:\n",
        "    name=input(\"찾을 물품 ==>\")\n",
        "    if name ==\"\":\n",
        "        break\n",
        "    if name in name_list:\n",
        "        print(product[name],\"개 남았어요.\")\n",
        "    else:\n",
        "        print(\"그 물품은 없어요.\")"
      ],
      "metadata": {
        "id": "TgpQNasY-ivM"
      },
      "execution_count": null,
      "outputs": []
    },
    {
      "cell_type": "code",
      "source": [
        "#이름과 학번 입력 받기\n",
        "dict = {}\n",
        "print(\"학적을 입력합니다. 종료는 z를 입력하세요.\")\n",
        "while True:\n",
        "    name = input(\"이름을 입력하세요 : \")\n",
        "    if name == \"z\" :\n",
        "        break\n",
        "    num = int(input(\"학번 : \"))\n",
        "    dict[name] = num\n",
        "print(dict)"
      ],
      "metadata": {
        "id": "ywm5METY-mEI"
      },
      "execution_count": null,
      "outputs": []
    },
    {
      "cell_type": "markdown",
      "source": [
        "## 연습1"
      ],
      "metadata": {
        "id": "yRbeNYwj8CwO"
      }
    },
    {
      "cell_type": "code",
      "source": [
        "#끝말잇기 하기\n",
        "start=input(\"시작 단어 : \")\n",
        "cnt=1\n",
        "list=[]\n",
        "list.append(start)\n",
        "while True:\n",
        "    word1=input(\"끝말을 이을 단어 : \")\n",
        "    #list.append(word1) 을 if문 밖에 입력하면, 틀린 단어도 리스트에 추가 됨\n",
        "    if start[-1]==word1[0]:\n",
        "        start=word1\n",
        "        cnt+=1\n",
        "        list.append(word1)\n",
        "        continue\n",
        "    else:\n",
        "        print(\"틀린 단어입니다.\")\n",
        "        break\n",
        "print(\"끝말잇기를\",cnt,\"번 했습니다.\")\n",
        "print(\"입력한 단어 :\",list)"
      ],
      "metadata": {
        "id": "Y1x5ftE8_FE4"
      },
      "execution_count": null,
      "outputs": []
    },
    {
      "cell_type": "code",
      "source": [
        "#조건에 맞는 이름 찾기\n",
        "name=[\"박지성\",\"정우성\",\"김혜수\",\"정동하\",\"이선우\"]\n",
        "for i in name:\n",
        "    str=i\n",
        "    if str[0]==\"정\":\n",
        "        print(\"정씨\", str)\n",
        "\n",
        "for i in name:\n",
        "    str=i\n",
        "    if str[-1]==\"성\":\n",
        "        print(\"성으로 끝나는 이름\",str)\n",
        "\n",
        "for i in name:\n",
        "    str=i\n",
        "    if \"우\" in str:\n",
        "        print(\"우가 들어가는 이름 : \",str)"
      ],
      "metadata": {
        "id": "72pIB_Ve_KBj"
      },
      "execution_count": null,
      "outputs": []
    },
    {
      "cell_type": "code",
      "source": [
        "#명단에 있는 사람인지 확인하기\n",
        "invitation=[\"박지성\",\"정우성\",\"김혜수\",\"정동하\",\"이선우\"]\n",
        "attend=[]\n",
        "\n",
        "while True:\n",
        "    name=input(\"참석자 : \")\n",
        "    if name==\"q\":\n",
        "        break\n",
        "    elif name in invitation:\n",
        "        attend.append(name)\n",
        "        print(\"입장 가능\")\n",
        "    elif name not in invitation:\n",
        "        print(\"입장 불가능\")\n",
        "print(\"참석자 명단 : \",attend)"
      ],
      "metadata": {
        "id": "LZAAIlAu_OLW"
      },
      "execution_count": null,
      "outputs": []
    },
    {
      "cell_type": "code",
      "source": [
        "#과일 색깔 맞히기\n",
        "import random\n",
        "fruit=[\"apple\",\"grape\",\"kiwi\",\"pear\"]\n",
        "color=[\"red\",\"purple\",\"green\",\"beige\"]\n",
        "ran=[]\n",
        "re_ran=[]\n",
        "correct=0\n",
        "while True:\n",
        "    if len(ran)>=len(fruit):\n",
        "        break\n",
        "    n=random.randint(0,3)\n",
        "    if n in ran:\n",
        "        re_ran.append(n)\n",
        "        continue\n",
        "    elif n not in ran:\n",
        "        ran.append(n)\n",
        "print(ran)\n",
        "print(re_ran)\n",
        "\n",
        "for i in ran:\n",
        "    answer=input(f\"{fruit[i]}의 색깔은? : \")\n",
        "    if answer==color[i]:\n",
        "        print(\"맞았습니다.\")\n",
        "        correct+=1\n",
        "    elif answer!=color[i]:\n",
        "        print(\"틀렸습니다.\")\n",
        "\n",
        "print(f\"{len(ran)}문제 중 {correct}개 맞음\")"
      ],
      "metadata": {
        "id": "PbE5ibdM_fkr"
      },
      "execution_count": null,
      "outputs": []
    },
    {
      "cell_type": "code",
      "source": [
        "#랜덤 숫자 맞히기 1\n",
        "import random\n",
        "number=random.randint(1,100)\n",
        "cnt=0\n",
        "while True:\n",
        "    user=int(input(\"숫자를 입력하세요. : \"))\n",
        "    cnt+=1\n",
        "    if cnt==5:\n",
        "        print(\"안타깝지만 맞추지 못했습니다.\")\n",
        "        break\n",
        "    if user>100:\n",
        "        print(\"100 이하의 숫자를 입력하세요.\")\n",
        "    elif user>number:\n",
        "        print(\"down\")\n",
        "    elif user<number:\n",
        "        print(\"up\")\n",
        "    elif user==number:\n",
        "        print(\"정답. {cnt}번 만에 맞혔습니다.\")\n",
        "        break\n",
        "print(f\"정답은 {number}입니다.\")"
      ],
      "metadata": {
        "id": "5urj1WRD_kHS"
      },
      "execution_count": null,
      "outputs": []
    },
    {
      "cell_type": "code",
      "source": [
        "#랜덤 숫자 맞히기 2\n",
        "import random\n",
        "while True:\n",
        "    num=random.randint(1,30)\n",
        "    count=1\n",
        "    print(num)\n",
        "    while user != num and count <=5:\n",
        "        user=int(input(\"숫자 입력 : \"))\n",
        "        if num<user:\n",
        "            print(\"down\")\n",
        "        elif num>user:\n",
        "            print(\"up\")\n",
        "        else:\n",
        "            break\n",
        "        count+=1\n",
        "    if user==num:\n",
        "        print(f\"정답. {count}번 만에 맞혔습니다.\")\n",
        "    else:\n",
        "        print(\"아쉽게도 5번 안에 맞히지 못했습니다.\")\n",
        "    replay=input(\"다시 하려면 yes, 끝내려면 no 입력\")\n",
        "    if replay==\"yes\":\n",
        "        continue\n",
        "    elif replay==\"no\":\n",
        "        print(\"게임을 종료합니다.\")\n",
        "        break"
      ],
      "metadata": {
        "id": "6XhlRro8_4hI"
      },
      "execution_count": null,
      "outputs": []
    },
    {
      "cell_type": "markdown",
      "source": [
        "## 연습2"
      ],
      "metadata": {
        "id": "sXMNS6-I8EYS"
      }
    },
    {
      "cell_type": "code",
      "source": [
        "#좋아하는 과일 입력 받고, 맞는지 아닌지 확인하기\n",
        "\n",
        "#FOR문\n",
        "fruits=[]\n",
        "for i in range(3):\n",
        "    f=input(\"좋아하는 과일의 이름을 입력하시오: \")\n",
        "    fruits.append(f)\n",
        "name=input(\"과일의 이름을 입력하세요: \")\n",
        "if name in fruits:\n",
        "    print(\"이 과일은 당신이 좋아하는 과일입니다.\")\n",
        "else:\n",
        "    print(\"이 과일은 당신이 좋아하는 과일이 아닙니다.\")\n",
        "\n",
        "#WHILE문\n",
        "fruits=[]\n",
        "while True:\n",
        "    if len(fruits)>=3:\n",
        "        break\n",
        "    f=input(\"좋아하는 과일의 이름을 입력하시오: \")\n",
        "    fruits.append(f)\n",
        "    if f in fruits:\n",
        "        continue\n",
        "    else:\n",
        "        fruits.append(f)\n",
        "name=input(\"과일의 이름을 입력하세요: \")\n",
        "if name in fruits:\n",
        "    print(\"이 과일은 당신이 좋아하는 과일입니다.\")\n",
        "else:\n",
        "    print(\"이 과일은 당신이 좋아하는 과일이 아닙니다.\")"
      ],
      "metadata": {
        "id": "GUY3-0B2AH6s"
      },
      "execution_count": null,
      "outputs": []
    },
    {
      "cell_type": "code",
      "source": [
        "#소수 찾기\n",
        "primes=[]\n",
        "for i in range(2,101):\n",
        "    result=True\n",
        "    for j in range(2,i):\n",
        "        if i%j==0:\n",
        "            result=False\n",
        "    if result==True:\n",
        "        primes.append(i)\n",
        "print(f\"2와 100 사이의 소수들 : {primes}\")\n",
        "print(f\"2와 100 사이의 소수 개수 : {len(primes)}개\")"
      ],
      "metadata": {
        "id": "fvR-GgAaAYRj"
      },
      "execution_count": null,
      "outputs": []
    },
    {
      "cell_type": "code",
      "source": [
        "#도시, 인구수 나타내기. 최대, 최소, 평\n",
        "city=[('서울',9765),('부산',3441),('인천',2954),('광주',1501),('대전',1531)]\n",
        "max=city[0][1]\n",
        "max_city=\"\"\n",
        "min=city[0][1]\n",
        "min_city=\"\"\n",
        "sum=0\n",
        "for i in range(len(city)):\n",
        "    sum+=city[i][1]\n",
        "    if city[i][1]>=max:\n",
        "        max=city[i][1]\n",
        "        max_city=city[i][0]\n",
        "    elif city[i][1]<=min:\n",
        "        min=city[i][1]\n",
        "        min_city=city[i][0]\n",
        "print(f\"최대인구: {max_city}, 인구: {max}천명\")\n",
        "print(f\"최소인구: {min_city}, 인구: {min}천명\")\n",
        "print(f\"리스트 도시 평균 인구: {sum/len(city)}천명\")"
      ],
      "metadata": {
        "id": "cN1J_XEAAa2E"
      },
      "execution_count": null,
      "outputs": []
    },
    {
      "cell_type": "code",
      "source": [
        "#리스트 안 원소들 중 최대값, 최소값 찾기\n",
        "heights=[178,173,166,164,176]\n",
        "smallest=heights[0]\n",
        "largest=heights[0]\n",
        "for item in heights:\n",
        "    if item<smallest:\n",
        "        smallest=item\n",
        "print(f\"리스트 원소들: {heights}\")\n",
        "print(f\"가장 작은 값: {smallest}\")\n",
        "for item in heights:\n",
        "    if item>largest:\n",
        "        largest=item\n",
        "print(f\"가장 큰 값: {largest}\")\n",
        "heights.sort()\n",
        "print(heights[0],heights[-1])"
      ],
      "metadata": {
        "id": "saoeNVpBA4uQ"
      },
      "execution_count": null,
      "outputs": []
    },
    {
      "cell_type": "markdown",
      "source": [
        "## 연습3"
      ],
      "metadata": {
        "id": "LWd1ZgKa8FtA"
      }
    },
    {
      "cell_type": "code",
      "source": [
        "#숫자를 입력받아 양수인지 음수인지 알아보고 양수라면 짝수인지 홀수인지 출력하시오.\n",
        "user=int(input(\"숫자를 입력하세요. \"))\n",
        "if user>0:\n",
        "    print(\"양수입니다\")\n",
        "    if user%2==0:\n",
        "        print(\"짝수\")\n",
        "    else:\n",
        "        print(\"홀수\")\n",
        "elif user<0:\n",
        "    print(\"음수입니다.\")\n",
        "else:\n",
        "    print(\"0입니다.\")"
      ],
      "metadata": {
        "id": "jaNzFPWyBDIX"
      },
      "execution_count": null,
      "outputs": []
    },
    {
      "cell_type": "code",
      "source": [
        "#랜덤으로 1~3 숫자 중 하나를 뽑아 1이면 왼쪽, 2면 중앙, 3이면 오른쪽\n",
        "#왼쪽, 중앙, 오른쪽 중에 어디를 공격할 건지 사용자에게 입력받기\n",
        "#위의 두개가 맞으면 \"공격에 성공하였습니다.\"\n",
        "#틀리면 \"공격에 실패하였습니다.\"\n",
        "\n",
        "import random\n",
        "\n",
        "side=['left','mid','right']\n",
        "com=random.randint(1,3)\n",
        "user=input(\"left/mid/right?: \")\n",
        "if user==\"left\":\n",
        "    user=1\n",
        "    if user==com:\n",
        "        print(\"Success\")\n",
        "    else:\n",
        "        print(\"Fail\")\n",
        "elif user==\"mid\":\n",
        "    user=2\n",
        "    if user==com:\n",
        "        print(\"Success\")\n",
        "    else:\n",
        "        print(\"Fail\")\n",
        "elif user==\"right\":\n",
        "    user=3\n",
        "    if user==com:\n",
        "        print(\"Success\")\n",
        "    else:\n",
        "        print(\"Fail\")\n",
        "print(f\"Computer: {side[com-1]}\")"
      ],
      "metadata": {
        "id": "3ybqRUx_BE_V"
      },
      "execution_count": null,
      "outputs": []
    },
    {
      "cell_type": "code",
      "source": [
        "#랜덤으로 숫자를 뽑아 0이면 '앞', 1이면 '뒤'로 정하기\n",
        "#=> 사용자로부터 앞과 뒤를 입력받아 맞히면 \"맞았습니다.\", 틀리면 \"틀렸습니다.\"라고 출력\n",
        "\n",
        "import random\n",
        "\n",
        "com=random.choice(['front','back'])\n",
        "user=input('front? back? :')\n",
        "if user==com:\n",
        "    print(\"right\")\n",
        "else:\n",
        "    print(\"wrong\")\n",
        "print(com)"
      ],
      "metadata": {
        "id": "ODZPEBWfBHcF"
      },
      "execution_count": null,
      "outputs": []
    },
    {
      "cell_type": "code",
      "source": [
        "#아이디와 패스워드를 입력받아 로그인 성공과 실패 알아보기\n",
        "#아이디를 입력받아 맞으면 패스워드 입력 받기\n",
        "#아이디가 틀리면 \"아이디가 틀렸습니다.\"\n",
        "#패스워드가 틀리면 \"패스워드가 틀렸습니다.\"\n",
        "#모두 맞으면 \"로그인 성공\"을 출력\n",
        "\n",
        "right_id=['dkdlel']\n",
        "right_pw=['qlalfqjsgh']\n",
        "id=input(\"put your id: \")\n",
        "if id in right_id:\n",
        "    pw=input(\"put your password: \")\n",
        "    if pw in right_pw:\n",
        "        print(\"login successfully\")\n",
        "    else:\n",
        "        print(\"wrong password\")\n",
        "else:\n",
        "    print(\"wrong id\")\n"
      ],
      "metadata": {
        "id": "0ezUsdLTBJCQ"
      },
      "execution_count": null,
      "outputs": []
    },
    {
      "cell_type": "code",
      "source": [
        "#점수 2개를 입력받아 모두 60이상이면 합격, 그렇지 않으면 불합격\n",
        "score1=int(input(\"Score1: \"))\n",
        "score2=int(input(\"Score2: \"))\n",
        "if score1>=60 and score2>=60:\n",
        "    print(\"Good\")\n",
        "else:\n",
        "    print(\"Bad\")\n",
        "\n",
        "#점수 2개를 입력받아 평균 60 이상이어야 하고 한 과목이라도 40점 미만이 있으면 불합격되는 시험의 합격과 불합격을 출력하시오.\n",
        "score1=int(input(\"Score1: \"))\n",
        "score2=int(input(\"Score2: \"))\n",
        "avg=(score1+score2)/2\n",
        "if avg>=60:\n",
        "    if score1<40 or score2<40:\n",
        "        print(\"Fail\")\n",
        "    else:\n",
        "        print(\"Pass\")\n",
        "else:\n",
        "    print(\"Fail\")"
      ],
      "metadata": {
        "id": "StE3zPLvBK0P"
      },
      "execution_count": null,
      "outputs": []
    },
    {
      "cell_type": "code",
      "source": [
        "#키와 체중을 입력받아 bmi를 계산하여 20미만은 저체중, 20~22는 보통, 나머지는 과체중을 출력하시오.\n",
        "#bmi는 체중을 키의 제곱으로 나눈 값이며 키는 m단위로 계산한다.\n",
        "height=float(input(\"cm: \"))\n",
        "weight=float(input(\"kg: \"))\n",
        "bmi=(weight/((height/100)**2))\n",
        "print(\"bmi: %.2f\"%(bmi))\n",
        "if bmi<20:\n",
        "    print(\"lower\")\n",
        "elif bmi<22:\n",
        "    print(\"soso\")\n",
        "else:\n",
        "    print(\"heavier\")"
      ],
      "metadata": {
        "id": "2ElSoxHlBPEb"
      },
      "execution_count": null,
      "outputs": []
    },
    {
      "cell_type": "code",
      "source": [
        "#'hello'를 한 글자씩 출력해보세요. for문과 while문으로\n",
        "string=\"hello\"\n",
        "print(len(string))\n",
        "for i in range(len(string)):\n",
        "    if i<len(string):\n",
        "        print(string[i],end=\"\")\n",
        "print(\"\")\n",
        "cnt=0\n",
        "while cnt<len(string):\n",
        "    print(string[cnt],end=\"\")\n",
        "    cnt+=1\n",
        "print(\"\")\n",
        "for i in range(len(string)):\n",
        "    print(string[i],end=\"\")"
      ],
      "metadata": {
        "id": "EGNg_6DnBR4g"
      },
      "execution_count": null,
      "outputs": []
    },
    {
      "cell_type": "markdown",
      "source": [
        "## 연습4"
      ],
      "metadata": {
        "id": "WRwsyF7s8G-w"
      }
    },
    {
      "cell_type": "code",
      "source": [
        "#['red,'orange','beige','green','blue']를 순서대로 출력\n",
        "color=[\"red\",\"orange\",\"beige\",\"green\",\"blue\"]\n",
        "color.sort()\n",
        "print(color)\n",
        "\n",
        "#위의 리스트를 거꾸로 출력\n",
        "color.sort(reverse=True)\n",
        "print(color)\n",
        "\n",
        "#위의 리스트에서 홀수 인덱스를 출력\n",
        "print(color[0::2])\n",
        "\n",
        "#위의 리스트를 오름차순 정렬\n",
        "print(sorted(color))\n",
        "\n",
        "#위의 리스트를 역순으로 출력\n",
        "color.sort(reverse=True)\n",
        "print(color)"
      ],
      "metadata": {
        "id": "6IsqXSR6BYqw"
      },
      "execution_count": null,
      "outputs": []
    },
    {
      "cell_type": "code",
      "source": [
        "#0~10 숫자 중 3의 배수가 아닌 것을 리스트로 만들어 출력하고 그 리스트의 합계와 평균도 출력\n",
        "none3=[]\n",
        "sum=0\n",
        "for i in range(0,11):\n",
        "    if i%3!=0:\n",
        "        none3.append(i)\n",
        "        sum+=i\n",
        "print(none3)\n",
        "print(f\"sum:{sum}\")\n",
        "print(f\"avg:{sum/len(none3)}\")"
      ],
      "metadata": {
        "id": "IIaQhjiiBjD8"
      },
      "execution_count": null,
      "outputs": []
    },
    {
      "cell_type": "code",
      "source": [
        "#0~20 숫자 중 3의 배수와 개수 출력\n",
        "num=[]\n",
        "for i in range(0,21):\n",
        "    if i>0 and i%3==0:\n",
        "        num.append(i)\n",
        "print(f\"3의 배수: {num}\")\n",
        "print(f\"개수: {len(num)}\")"
      ],
      "metadata": {
        "id": "0ZgvOflhBkzG"
      },
      "execution_count": null,
      "outputs": []
    },
    {
      "cell_type": "code",
      "source": [
        "#3,2,1,0 다음과 같이 4개의 숫자를 하나의 문자로 만들어 출력하시오\n",
        "numbers=[3,2,1,0]\n",
        "for i in range(len(numbers)):\n",
        "    a=str(numbers[i])\n",
        "    print(a,end=\"\")"
      ],
      "metadata": {
        "id": "dfN2Ir4uBl-c"
      },
      "execution_count": null,
      "outputs": []
    },
    {
      "cell_type": "code",
      "source": [
        "#1부터 시작하는 양의 정수를 하나씩 더하다가 합계가 40이 넘으면 반복문을 종료하는 코드 작성.\n",
        "#출력형태 => \"00까지의 합 : 00\"\n",
        "cnt=1\n",
        "sum=0\n",
        "while True:\n",
        "    if sum>40:\n",
        "        break\n",
        "    sum+=cnt\n",
        "    cnt+=1\n",
        "print(f\"{cnt}까지의 합: {sum}\")"
      ],
      "metadata": {
        "id": "MwP5elJABnzG"
      },
      "execution_count": null,
      "outputs": []
    },
    {
      "cell_type": "markdown",
      "source": [
        "## 연습5"
      ],
      "metadata": {
        "id": "fnab9D908IbP"
      }
    },
    {
      "cell_type": "code",
      "source": [
        "#로또 번호 6개를 랜덤함수를 이용하여 만든다.\n",
        "#사용자로부터 숫자 6개를 입력받아 모두 같으면 1등\n",
        "#5개 같으면 2등, 4개 같으면 3등, 3개 같으면 4등, 2개 같으면 5등, 1개 같으면 6등, 나머지는 꽝\n",
        "import random\n",
        "\n",
        "thisweek=[]\n",
        "selected=[]\n",
        "correct=[]\n",
        "while len(thisweek)<6:\n",
        "    lotto=random.randint(1,45)\n",
        "    if lotto not in thisweek:\n",
        "        thisweek.append(lotto)\n",
        "while len(selected)<6:\n",
        "    user=int(input(\"Choose six numbers between 1 and 45: \"))\n",
        "    if user>45 or user<0:\n",
        "        print(\"Try again\")\n",
        "    elif user not in selected:\n",
        "        selected.append(user)\n",
        "    elif user in selected:\n",
        "        print(\"Try again\")\n",
        "    if user in thisweek:\n",
        "        correct.append(user)\n",
        "if len(correct)==6:\n",
        "    print(\"1st\")\n",
        "elif len(correct)==5:\n",
        "    print(\"2nd\")\n",
        "elif len(correct)==4:\n",
        "    print(\"3rd\")\n",
        "elif len(correct)==3:\n",
        "    print(\"4th\")\n",
        "elif len(correct)==2:\n",
        "    print(\"5th\")\n",
        "elif len(correct)==1:\n",
        "    print(\"6th\")\n",
        "else:\n",
        "    print(\"None\")\n",
        "print(f\"Fortune numbers of this week: {sorted(thisweek)}\")\n",
        "print(f\"Chosen numbers : {sorted(selected)}\")\n",
        "print(f\"right numbers : {sorted(correct)}\")"
      ],
      "metadata": {
        "id": "x1gqXqv7Brps"
      },
      "execution_count": null,
      "outputs": []
    },
    {
      "cell_type": "code",
      "source": [
        "#떡볶이, 튀김, 김말이, 쫄면의 가격이 3000,1000,1500,5000이다.\n",
        "#메뉴와 개수를 입력받아 가격을 출력하기\n",
        "#사용자로부터 지불 금액을 입력받아 거스름 돈 출력\n",
        "#거스름돈은 금액과 1000원짜리와 500원짜리 개수로 출력\n",
        "menu=[\"떡볶이\",\"튀김\",\"김말이\",\"쫄면\"]\n",
        "price=[3000,1000,1500,5000]\n",
        "total=0\n",
        "for i in range(len(menu)):\n",
        "    order=int(input(f\"How many {menu[i]}?: \"))\n",
        "    total+=price[i]*order\n",
        "print(f\"total price: {total} won\")\n",
        "pay=int(input(\"How much are you going to pay?:\"))\n",
        "coins=pay-total\n",
        "print(f\"you paid {pay} won, changes are {coins} won.\")\n",
        "thousand=coins//1000\n",
        "fivehund=(coins%1000)/500\n",
        "print(\"cash 1,000won:%d\"%(thousand))\n",
        "print(\"cash 500won:%d\"%(fivehund))"
      ],
      "metadata": {
        "id": "T1KJaqoSByOp"
      },
      "execution_count": null,
      "outputs": []
    },
    {
      "cell_type": "markdown",
      "source": [
        "## 연습6"
      ],
      "metadata": {
        "id": "Midij2yE8JtK"
      }
    },
    {
      "cell_type": "code",
      "source": [
        "#이름에 \"김\" 또는 \"재\"가 들어가는 사람의 이름과 부서 출력\n",
        "sales_record=[\"김재원\",\"기획팀\",\"장호성\",\"총무팀\",\"김희수\",\"영업팀\",\"장동건\",\"인사팀\",\"이민재\",\"회계팀\"]\n",
        "for i in range(len(sales_record)):\n",
        "    if i%2==0:\n",
        "        if \"김\" in sales_record[i] or \"재\" in sales_record[i]:\n",
        "            print(sales_record[i])\n",
        "            print(sales_record[i+1])"
      ],
      "metadata": {
        "id": "gn0GOdS3CA8V"
      },
      "execution_count": null,
      "outputs": []
    },
    {
      "cell_type": "code",
      "source": [
        "#반지름 구하기\n",
        "r=[]\n",
        "area=[]\n",
        "circum=[25.12, 37.68, 62.8, 75.36, 94.2]\n",
        "for i in range(5):\n",
        "    num=int(circum[i]/2/3.14)\n",
        "    r.append(num)\n",
        "for j in range(5):\n",
        "    num1=int(r[j]**2*3.14)\n",
        "    area.append(num1)\n",
        "print(f\"반지름: {r}\")\n",
        "print(f\"둘레: {circum}\")\n",
        "print(f\"넓이: {area}\")"
      ],
      "metadata": {
        "id": "-pEt5hKGCMfB"
      },
      "execution_count": null,
      "outputs": []
    },
    {
      "cell_type": "code",
      "source": [
        "#패스/언패스 알려주기\n",
        "import random\n",
        "total=0\n",
        "max=0\n",
        "\n",
        "scores=[]\n",
        "for i in range(5):\n",
        "    score=random.randint(1,100)\n",
        "    scores.append(score)\n",
        "    total+=score\n",
        "    if score>max:\n",
        "        max=score\n",
        "print(scores)\n",
        "print(\"average =  %.1f , maximum = %d\"%(total/5,max))\n",
        "if total/5>=60:\n",
        "    print(\"you pass the class\")\n",
        "else:\n",
        "    print(\"you fail the class\")"
      ],
      "metadata": {
        "id": "jUWWPwfeCSM7"
      },
      "execution_count": null,
      "outputs": []
    },
    {
      "cell_type": "code",
      "source": [
        "#숫자를 -50부터 +50까지 숫자를 랜덤으로 5개를 뽑아서 최솟값, 합계, 음수의 개수, 양수의 개수 출력\n",
        "import random\n",
        "\n",
        "total=[]\n",
        "minus=0\n",
        "plus=0\n",
        "for i in range(5):\n",
        "    number=random.randint(-50,50)\n",
        "    total.append(number)\n",
        "    if number<0:\n",
        "        minus+=1\n",
        "    else:\n",
        "        plus+=1\n",
        "minimum=min(total)\n",
        "all=sum(total)\n",
        "print(total)\n",
        "print(f\"최솟값: {minimum}, 합계: {all}, 음수: {minus}개, 양수: {plus}개\")"
      ],
      "metadata": {
        "id": "jVr7b_VyCkwM"
      },
      "execution_count": null,
      "outputs": []
    },
    {
      "cell_type": "code",
      "source": [
        "#도시와 인구. 평균 인구수보다 작은 도시 구하\n",
        "c_p=[['서울', 9350], ['대전', 1440], ['대구', 2362], ['부산', 4277], ['광주', 1110]]\n",
        "s=0\n",
        "for i in range(5):\n",
        "    s+=c_p[i][1]\n",
        "avg=s/len(c_p)\n",
        "print(\"평균인구:\",avg)\n",
        "print(\"<<<인구수가 평균보다 작은 도시>>>\")\n",
        "for i in range(5):\n",
        "    if c_p[i][1]<avg:\n",
        "        print(c_p[i][0],c_p[i][1])"
      ],
      "metadata": {
        "id": "XoRQ835QCqmj"
      },
      "execution_count": null,
      "outputs": []
    },
    {
      "cell_type": "code",
      "source": [
        "product=['과자',5,'사탕',10,'아이스크림',7,'소시지',3,'빵',12]\n",
        "#위의 상품 중 10개 미만인 상품명과 재고수와 구매가 필요한 개수\n",
        "#출력형태 => 상품명: 과자 재고량: 0 필요개수: 0\n",
        "for i in range(len(product)):\n",
        "    if i%2==1:\n",
        "        if product[i]<10:\n",
        "            print(\"상품명: \",product[i-1], \"재고량: \",product[i], \"필요개수: \",10-product[i])\n",
        "\n",
        "#평균 재고량보다 작은 품목\n",
        "#출력형태\n",
        "#평균재고량: 00개\n",
        "#<<평균 재고량보다 작은 품목>>\n",
        "#상품명: 과자, 재고량: 0\n",
        "product=['과자',5,'사탕',10,'아이스크림',7,'소시지',3,'빵',12]\n",
        "name=[]\n",
        "cnt=[]\n",
        "for i in range(10):\n",
        "    if i%2==0:\n",
        "        name.append(product[i])\n",
        "        cnt.append(product[i+1])\n",
        "print(name)\n",
        "print(cnt)\n",
        "avg=sum(cnt)/len(cnt)\n",
        "print(f\"평균재고량: {avg}개\")\n",
        "print(\"<<평균 재고량보다 작은 품목>>\")\n",
        "for i in range(5):\n",
        "    if cnt[i]<avg:\n",
        "        print(f\"상품명: {name[i]}, 재고량: {cnt[i]}\")"
      ],
      "metadata": {
        "id": "PKyAWi2pC1rT"
      },
      "execution_count": null,
      "outputs": []
    }
  ]
}